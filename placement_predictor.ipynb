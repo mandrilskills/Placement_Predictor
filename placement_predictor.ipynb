{
 "cells": [
  {
   "cell_type": "code",
   "execution_count": 8,
   "id": "7cebc573",
   "metadata": {},
   "outputs": [
    {
     "name": "stderr",
     "output_type": "stream",
     "text": [
      "c:\\Python312\\Lib\\site-packages\\sklearn\\linear_model\\_logistic.py:465: ConvergenceWarning: lbfgs failed to converge (status=1):\n",
      "STOP: TOTAL NO. OF ITERATIONS REACHED LIMIT.\n",
      "\n",
      "Increase the number of iterations (max_iter) or scale the data as shown in:\n",
      "    https://scikit-learn.org/stable/modules/preprocessing.html\n",
      "Please also refer to the documentation for alternative solver options:\n",
      "    https://scikit-learn.org/stable/modules/linear_model.html#logistic-regression\n",
      "  n_iter_i = _check_optimize_result(\n"
     ]
    },
    {
     "name": "stdout",
     "output_type": "stream",
     "text": [
      "Model Accuracy: 0.7\n",
      "Enter Student Details to Predict Placement Possibilities: \n",
      "\n",
      "\n",
      "Predicted Result:\n",
      "✅ The student is likely to be placed.\n",
      "Probability of Placement: 98.71%\n"
     ]
    },
    {
     "name": "stderr",
     "output_type": "stream",
     "text": [
      "c:\\Python312\\Lib\\site-packages\\sklearn\\utils\\validation.py:2739: UserWarning: X does not have valid feature names, but LogisticRegression was fitted with feature names\n",
      "  warnings.warn(\n",
      "c:\\Python312\\Lib\\site-packages\\sklearn\\utils\\validation.py:2739: UserWarning: X does not have valid feature names, but LogisticRegression was fitted with feature names\n",
      "  warnings.warn(\n"
     ]
    }
   ],
   "source": [
    "import numpy as np\n",
    "import pandas as pd\n",
    "from sklearn.model_selection import train_test_split\n",
    "from sklearn.linear_model import LogisticRegression\n",
    "from sklearn.metrics import accuracy_score\n",
    "data = pd.read_csv('Placement.csv')\n",
    "df = pd.DataFrame(data)\n",
    "#Features and label\n",
    "X = df.drop('placement', axis=1)\n",
    "y = df['placement']\n",
    "X_train, X_test, y_train, y_test = train_test_split(X, y, test_size=0.2, random_state=42)\n",
    "model = LogisticRegression()\n",
    "model.fit(X_train, y_train)\n",
    "y_pred = model.predict(X_test)\n",
    "print(\"Model Accuracy:\", accuracy_score(y_test, y_pred))\n",
    "print(\"Enter Student Details to Predict Placement Possibilities: \\n\")\n",
    "sgpa = float(input(\"Avg SGPA till date (1 to 10): \"))\n",
    "intern = int(input(\"Enter number of internships cracked: \"))\n",
    "backlogs = int(input(\"Number of Backlogs: \"))\n",
    "communication_skill = int(input(\"Communication Skill (1 to 10): \"))\n",
    "aptitude_score = int(input(\"Aptitude Test Score (out of 100): \"))\n",
    "projects = int(input(\"Number of Major Projects: \"))\n",
    "certifications = int(input(\"Number of Relevant Certifications: \"))\n",
    "extra_curricular = int(input(\"Active in Extra Curricular? (1 = Yes, 0 = No): \"))\n",
    "student_input = np.array([[sgpa, intern, backlogs, communication_skill,\n",
    "                           aptitude_score, projects, certifications, extra_curricular]])\n",
    "prediction = model.predict(student_input)[0]\n",
    "prob = model.predict_proba(student_input)[0][1]\n",
    "\n",
    "print(\"\\nPredicted Result:\")\n",
    "if prediction == 1:\n",
    "    print(\"✅ The student is likely to be placed.\")\n",
    "else:\n",
    "    print(\"❌ The student is unlikely to be placed.\")\n",
    "print(\"Probability of Placement: {:.2f}%\".format(prob * 100))"
   ]
  }
 ],
 "metadata": {
  "kernelspec": {
   "display_name": "Python 3",
   "language": "python",
   "name": "python3"
  },
  "language_info": {
   "codemirror_mode": {
    "name": "ipython",
    "version": 3
   },
   "file_extension": ".py",
   "mimetype": "text/x-python",
   "name": "python",
   "nbconvert_exporter": "python",
   "pygments_lexer": "ipython3",
   "version": "3.12.2"
  }
 },
 "nbformat": 4,
 "nbformat_minor": 5
}
